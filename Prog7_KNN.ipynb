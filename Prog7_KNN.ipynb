{
 "cells": [
  {
   "cell_type": "code",
   "execution_count": 11,
   "id": "f2e6c10a",
   "metadata": {},
   "outputs": [
    {
     "name": "stdout",
     "output_type": "stream",
     "text": [
      "Accuracy of the KNN model: 0.7532467532467533\n"
     ]
    }
   ],
   "source": [
    "import pandas as pd\n",
    "import numpy as np\n",
    "from sklearn.model_selection import train_test_split\n",
    "from sklearn.preprocessing import MinMaxScaler\n",
    "from sklearn.metrics import accuracy_score\n",
    "\n",
    "# Load and preprocess data\n",
    "df = pd.read_csv('diabetes.csv')\n",
    "df.fillna(df.mean(), inplace=True)  # Replace missing values with mean\n",
    "\n",
    "# Normalize data\n",
    "scaler = MinMaxScaler()\n",
    "features = ['Glucose', 'BloodPressure', 'Insulin', 'BMI', 'Age']  # example features\n",
    "df[features] = scaler.fit_transform(df[features])\n",
    "\n",
    "# Split dataset\n",
    "X = df[features]\n",
    "y = df['Outcome']  # Assuming 'Outcome' is the target variable\n",
    "X_train, X_test, y_train, y_test = train_test_split(X, y, test_size=0.2, random_state=42)\n",
    "\n",
    "# Define Euclidean distance function\n",
    "def euclidean_distance(row1, row2):\n",
    "    return np.sqrt(np.sum((row1 - row2) ** 2))\n",
    "\n",
    "# Get K nearest neighbors\n",
    "def get_neighbors(X_train, y_train, test_row, num_neighbors):\n",
    "    distances = []\n",
    "    for i in range(len(X_train)):\n",
    "        dist = euclidean_distance(test_row, X_train.iloc[i])\n",
    "        distances.append((y_train.iloc[i], dist))\n",
    "    distances.sort(key=lambda x: x[1])\n",
    "    neighbors = [distances[i][0] for i in range(num_neighbors)]\n",
    "    return neighbors\n",
    "\n",
    "# Predict the class\n",
    "def predict_classification(X_train, y_train, test_row, num_neighbors):\n",
    "    neighbors = get_neighbors(X_train, y_train, test_row, num_neighbors)\n",
    "    prediction = max(set(neighbors), key=neighbors.count)\n",
    "    return prediction\n",
    "\n",
    "# Test the KNN model\n",
    "y_pred = [predict_classification(X_train, y_train, row, num_neighbors=5) for index, row in X_test.iterrows()]\n",
    "accuracy = accuracy_score(y_test, y_pred)\n",
    "print(\"Accuracy of the KNN model:\", accuracy)\n"
   ]
  },
  {
   "cell_type": "code",
   "execution_count": null,
   "id": "1827b85b",
   "metadata": {},
   "outputs": [],
   "source": []
  }
 ],
 "metadata": {
  "kernelspec": {
   "display_name": "Python 3 (ipykernel)",
   "language": "python",
   "name": "python3"
  },
  "language_info": {
   "codemirror_mode": {
    "name": "ipython",
    "version": 3
   },
   "file_extension": ".py",
   "mimetype": "text/x-python",
   "name": "python",
   "nbconvert_exporter": "python",
   "pygments_lexer": "ipython3",
   "version": "3.11.5"
  }
 },
 "nbformat": 4,
 "nbformat_minor": 5
}
