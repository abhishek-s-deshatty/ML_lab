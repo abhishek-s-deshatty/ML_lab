{
 "cells": [
  {
   "cell_type": "code",
   "execution_count": null,
   "id": "939a308e",
   "metadata": {},
   "outputs": [],
   "source": [
    "import pandas as pd\n",
    "import numpy as np\n",
    "import matplotlib.pyplot as plt\n",
    "import seaborn as sns\n",
    "from sklearn.metrics import confusion_matrix,accuracy_score,precision_score,precision_recall_curve,recall_score,f1_score,roc_auc_score,roc_curve\n",
    "actual_a=[1 for i in range(10)]+[0 for i in range(10)]\n",
    "predicted_a=[1 for i in range(9)]+[0,1,1]+[0 for i in range(8)]\n",
    "print(actual_a)\n",
    "print(predicted_a)"
   ]
  },
  {
   "cell_type": "code",
   "execution_count": 28,
   "id": "f278fd00",
   "metadata": {},
   "outputs": [
    {
     "name": "stdout",
     "output_type": "stream",
     "text": [
      "[[8 2] \n",
      " [1 9]]\n",
      "[[8 2]\n",
      " [1 9]]\n"
     ]
    }
   ],
   "source": [
    "def my_confusion_matrix(actual,predicted):\n",
    "    TP=len([a for a,p in zip(actual,predicted) if a==p and p==1])\n",
    "    TN=len([a for a,p in zip(actual,predicted) if a==p and p==0])\n",
    "    FP=len([a for a,p in zip(actual,predicted) if a!=p and p==1])\n",
    "    FN=len([a for a,p in zip(actual,predicted) if a!=p and p==0])\n",
    "    return \"[[{} {}] \\n [{} {}]]\".format(TN,FP,FN,TP)\n",
    "print(my_confusion_matrix(actual_a,predicted_a))\n",
    "print(confusion_matrix(actual_a,predicted_a))"
   ]
  },
  {
   "cell_type": "code",
   "execution_count": 7,
   "id": "57d1dbdc",
   "metadata": {},
   "outputs": [
    {
     "data": {
      "text/plain": [
       "<Axes: >"
      ]
     },
     "execution_count": 7,
     "metadata": {},
     "output_type": "execute_result"
    },
    {
     "data": {
      "image/png": "[encoded data removed]",
      "text/plain": [
       "<Figure size 640x480 with 2 Axes>"
      ]
     },
     "metadata": {},
     "output_type": "display_data"
    }
   ],
   "source": [
    "array = [[9,1],\n",
    "         [2,8]]\n",
    "df_cm = pd.DataFrame(array,range(2),range(2))\n",
    "sns.heatmap(df_cm,annot=True,cmap='Blues')"
   ]
  },
  {
   "cell_type": "code",
   "execution_count": 9,
   "id": "52edcd51",
   "metadata": {},
   "outputs": [
    {
     "data": {
      "text/plain": [
       "<Axes: >"
      ]
     },
     "execution_count": 9,
     "metadata": {},
     "output_type": "execute_result"
    },
    {
     "data": {
      "image/png": "[encoded data removed]",
      "text/plain": [
       "<Figure size 640x480 with 2 Axes>"
      ]
     },
     "metadata": {},
     "output_type": "display_data"
    }
   ],
   "source": [
    "array = [[8,2], \n",
    "         [1,9]]\n",
    "df_cm = pd.DataFrame(array,range(2),range(2))\n",
    "sns.heatmap(df_cm,annot=True,cmap='Oranges_r')\n"
   ]
  },
  {
   "cell_type": "code",
   "execution_count": 10,
   "id": "92f2ef83",
   "metadata": {},
   "outputs": [
    {
     "name": "stdout",
     "output_type": "stream",
     "text": [
      "0.85\n",
      "0.85\n"
     ]
    }
   ],
   "source": [
    "def my_accuracy_score(actual,predicted):\n",
    "    TP=len([a for a,p in zip(actual,predicted) if a==p and p==1])\n",
    "    TN=len([a for a,p in zip(actual,predicted) if a==p and p==0])\n",
    "    FP=len([a for a,p in zip(actual,predicted) if a!=p and p==1])\n",
    "    FN=len([a for a,p in zip(actual,predicted) if a!=p and p==0])\n",
    "    return (TP+TN)/(TP+TN+FN+FP)\n",
    "print(my_accuracy_score(actual_a,predicted_a))\n",
    "print(accuracy_score(actual_a,predicted_a))"
   ]
  },
  {
   "cell_type": "code",
   "execution_count": 12,
   "id": "811615b0",
   "metadata": {},
   "outputs": [
    {
     "name": "stdout",
     "output_type": "stream",
     "text": [
      "0.8181818181818182\n",
      "0.8181818181818182\n"
     ]
    }
   ],
   "source": [
    "def my_precision_score(actual,predicted):\n",
    "    TP=len([a for a,p in zip(actual,predicted) if a==p and p==1])\n",
    "    FP=len([a for a,p in zip(actual,predicted) if a!=p and p==1])\n",
    "    return TP/(TP+FP)\n",
    "print(my_precision_score(actual_a,predicted_a))\n",
    "print(precision_score(actual_a,predicted_a))"
   ]
  },
  {
   "cell_type": "code",
   "execution_count": 13,
   "id": "bdc91bc5",
   "metadata": {},
   "outputs": [
    {
     "name": "stdout",
     "output_type": "stream",
     "text": [
      "0.9\n",
      "0.9\n"
     ]
    }
   ],
   "source": [
    "def my_recall_score(actual,predicted):\n",
    "    TP=len([a for a,p in zip(actual,predicted) if a==p and p==1])\n",
    "    FN=len([a for a,p in zip(actual,predicted) if a!=p and p==0])\n",
    "    return TP/(TP+FN)\n",
    "print(my_recall_score(actual_a,predicted_a))\n",
    "print(recall_score(actual_a,predicted_a))"
   ]
  },
  {
   "cell_type": "code",
   "execution_count": 14,
   "id": "16902aa6",
   "metadata": {},
   "outputs": [
    {
     "name": "stdout",
     "output_type": "stream",
     "text": [
      "0.8571428571428572\n",
      "0.8571428571428572\n"
     ]
    }
   ],
   "source": [
    "def my_f1_score(actual,predicted):\n",
    "    x=my_precision_score(actual_a,predicted_a)\n",
    "    y=my_recall_score(actual_a,predicted_a)\n",
    "    return (2*x*y)/(x+y)\n",
    "print(my_f1_score(actual_a,predicted_a))\n",
    "print(f1_score(actual_a,predicted_a))"
   ]
  },
  {
   "cell_type": "code",
   "execution_count": 15,
   "id": "269f4aee",
   "metadata": {},
   "outputs": [
    {
     "data": {
      "image/png": "[encoded data removed]",
      "text/plain": [
       "<Figure size 640x480 with 1 Axes>"
      ]
     },
     "metadata": {},
     "output_type": "display_data"
    }
   ],
   "source": [
    "precision,recall,_=precision_recall_curve(actual_a,predicted_a)\n",
    "plt.step(recall,precision,color='g',alpha=0.2,where='post')\n",
    "plt.fill_between(recall,precision,color='g',alpha=0.2,step='post')\n",
    "plt.xlim([0.0,1.0])\n",
    "plt.ylim([0.0,1.0])\n",
    "plt.show()"
   ]
  },
  {
   "cell_type": "code",
   "execution_count": 1,
   "id": "f12c2c96",
   "metadata": {},
   "outputs": [
    {
     "ename": "NameError",
     "evalue": "name 'roc_auc_score' is not defined",
     "output_type": "error",
     "traceback": [
      "\u001b[0;31m---------------------------------------------------------------------------\u001b[0m",
      "\u001b[0;31mNameError\u001b[0m                                 Traceback (most recent call last)",
      "Cell \u001b[0;32mIn[1], line 1\u001b[0m\n\u001b[0;32m----> 1\u001b[0m \u001b[38;5;28mprint\u001b[39m(roc_auc_score(actual_a,predicted_a))\n\u001b[1;32m      2\u001b[0m fpr,tpr,_\u001b[38;5;241m=\u001b[39mroc_curve(actual_a,predicted_a)\n\u001b[1;32m      3\u001b[0m plt\u001b[38;5;241m.\u001b[39mplot(fpr,tpr,color\u001b[38;5;241m=\u001b[39m\u001b[38;5;124m'\u001b[39m\u001b[38;5;124morange\u001b[39m\u001b[38;5;124m'\u001b[39m,lw\u001b[38;5;241m=\u001b[39m\u001b[38;5;241m2\u001b[39m,label\u001b[38;5;241m=\u001b[39m\u001b[38;5;124m\"\u001b[39m\u001b[38;5;124mROC_CURVE\u001b[39m\u001b[38;5;124m\"\u001b[39m)\n",
      "\u001b[0;31mNameError\u001b[0m: name 'roc_auc_score' is not defined"
     ]
    }
   ],
   "source": [
    "print(roc_auc_score(actual_a,predicted_a))\n",
    "fpr,tpr,_=roc_curve(actual_a,predicted_a)\n",
    "plt.plot(fpr,tpr,color='orange',lw=2,label=\"ROC_CURVE\")\n",
    "plt.plot([0,1],[0,1],color='navy',lw=2,linestyle='--')\n",
    "plt.xlim([0.0,1.0])\n",
    "plt.ylim([0.0,1.0])\n",
    "plt.legend(loc=\"lower right\")\n",
    "plt.show()"
   ]
  },
  {
   "cell_type": "code",
   "execution_count": null,
   "id": "587c78d9",
   "metadata": {},
   "outputs": [],
   "source": []
  }
 ],
 "metadata": {
  "kernelspec": {
   "display_name": "Python 3 (ipykernel)",
   "language": "python",
   "name": "python3"
  },
  "language_info": {
   "codemirror_mode": {
    "name": "ipython",
    "version": 3
   },
   "file_extension": ".py",
   "mimetype": "text/x-python",
   "name": "python",
   "nbconvert_exporter": "python",
   "pygments_lexer": "ipython3",
   "version": "3.11.5"
  }
 },
 "nbformat": 4,
 "nbformat_minor": 5
}
